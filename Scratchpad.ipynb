{
 "cells": [
  {
   "cell_type": "code",
   "execution_count": null,
   "metadata": {
    "collapsed": true
   },
   "outputs": [],
   "source": [
    "#connecting the database to python. this would go above all the visualization code.\n",
    "\n",
    "cursor = connection.cursor() #create a cursor so that you can interact with the database\n",
    "\n",
    "from getpass import getpass\n",
    "from mysql.connector import connect, Error\n",
    "\n",
    "try:\n",
    "    with connect(\n",
    "        host=“localhost”,\n",
    "        user=input(\"Enter username: “),\n",
    "        password=getpass(\"Enter password: “),\n",
    "        database=“torchlight”,\n",
    "    ) as connection:\n",
    "        print(connection)\n",
    "except Error as e:\n",
    "    print(e)\n",
    "\n",
    "code chunk 2:\n",
    "#selecting all rows for a certain product (rhel in this case). this would go above all the visualization code\n",
    "\n",
    "select_rhel = “”\"\n",
    " SELECT *\n",
    " FROM WebBehavior\n",
    " WHERE product_facet = ‘rhel’\n",
    " ORDER BY findability DESC\n",
    " “”\"\n",
    "with connection.cursor() as cursor:\n",
    "     cursor.execute(select_rhel)\n",
    "     for row in cursor.fetchall():\n",
    "         print(row)\n",
    "\n",
    "code chunk 3:\n",
    "#pie chart for contenttypes\n",
    "\n",
    "contenttype = mycursor.execute(\"Select contenttype_facet from WebBehavior”)\n",
    "result = mycursor.fetchall\n",
    "\n",
    "contenttype = []\n",
    "#Marks = []\n",
    "\n",
    "for i in mycursor:\n",
    "    contenttype.append(i[0])\n",
    "    #Marks.append(i[1])\n",
    "\n",
    "#plt.bar(Names, Marks)\n",
    "#plt.ylim(0, 5)\n",
    "#plt.xlabel(\"Name of Students”)\n",
    "#plt.ylabel(\"Marks of Students”)\n",
    "#plt.title(\"Student's Information”)\n",
    "#plt.show()\n",
    "\n",
    "plt.pie(contenttype)\n",
    "mylabels = ['troubleshooting', 'migration', 'installation', 'administration','development'] #fix this line\n",
    "r = plt.pie(metadata_counts, labels = mylabels, autopct='%.0f%%') #fix this line\n",
    "plt.title('Resources by Content Type’)\n",
    "plt.show()\n",
    "\n",
    "--\n"
   ]
  }
 ],
 "metadata": {
  "kernelspec": {
   "display_name": "Python 3",
   "language": "python",
   "name": "python3"
  },
  "language_info": {
   "codemirror_mode": {
    "name": "ipython",
    "version": 2
   },
   "file_extension": ".py",
   "mimetype": "text/x-python",
   "name": "python",
   "nbconvert_exporter": "python",
   "pygments_lexer": "ipython2",
   "version": "2.7.6"
  }
 },
 "nbformat": 4,
 "nbformat_minor": 0
}